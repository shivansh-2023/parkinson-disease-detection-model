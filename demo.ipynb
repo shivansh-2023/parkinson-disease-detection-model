{
 "cells": [
  {
   "cell_type": "markdown",
   "metadata": {},
   "source": [
    "# Parkinson's Disease Detection - Demonstration\n",
    "\n",
    "This notebook demonstrates the functionality of our Parkinson's disease detection system using spiral and wave drawing tests.\n",
    "\n",
    "## Overview\n",
    "\n",
    "Our system implements multiple models for detecting Parkinson's disease:\n",
    "1. Convolutional Neural Network (CNN)\n",
    "2. Transfer Learning (VGG16, ResNet50)\n",
    "3. Traditional Machine Learning with HOG features (Random Forest, SVM, Gradient Boosting)\n",
    "4. Hybrid model combining CNN with clinical data\n",
    "\n",
    "The system is designed to achieve over 85% accuracy in detecting Parkinson's disease from spiral and wave drawings."
   ]
  },
  {
   "cell_type": "markdown",
   "metadata": {},
   "source": [
    "## 1. Setting Up"
   ]
  },
  {
   "cell_type": "code",
   "execution_count": null,
   "metadata": {},
   "outputs": [],
   "source": [
    "# Import required libraries\n",
    "import os\n",
    "import numpy as np\n",
    "import matplotlib.pyplot as plt\n",
    "import pandas as pd\n",
    "import cv2\n",
    "from tensorflow.keras.models import load_model\n",
    "import joblib\n",
    "\n",
    "# Import our modules\n",
    "from data_loader import ParkinsonDataLoader\n",
    "from model import ParkinsonsDetector\n",
    "from utils import create_sample_data_structure, visualize_training_history\n",
    "from config import *\n",
    "\n",
    "# Create directories if they don't exist\n",
    "os.makedirs(DATA_PATH, exist_ok=True)\n",
    "os.makedirs(SPIRAL_DATASET_PATH, exist_ok=True)\n",
    "os.makedirs(WAVE_DATASET_PATH, exist_ok=True)\n",
    "os.makedirs(MODEL_SAVE_PATH, exist_ok=True)"
   ]
  },
  {
   "cell_type": "markdown",
   "metadata": {},
   "source": [
    "## 2. Preparing Sample Data\n",
    "\n",
    "Let's create some sample data for demonstration purposes."
   ]
  },
  {
   "cell_type": "code",
   "execution_count": null,
   "metadata": {},
   "outputs": [],
   "source": [
    "# Create sample spiral and wave images\n",
    "!python prepare_data.py --create_sample --num_samples 20 --create_clinical"
   ]
  },
  {
   "cell_type": "markdown",
   "metadata": {},
   "source": [
    "## 3. Loading and Visualizing Data"
   ]
  },
  {
   "cell_type": "code",
   "execution_count": null,
   "metadata": {},
   "outputs": [],
   "source": [
    "# Initialize data loader\n",
    "data_loader = ParkinsonDataLoader()\n",
    "\n",
    "# Load image datasets\n",
    "X_spiral, y_spiral = data_loader.load_image_dataset(\n",
    "    SPIRAL_DATASET_PATH, \n",
    "    image_size=(IMAGE_SHAPE[0], IMAGE_SHAPE[1])\n",
    ")\n",
    "\n",
    "X_wave, y_wave = data_loader.load_image_dataset(\n",
    "    WAVE_DATASET_PATH, \n",
    "    image_size=(IMAGE_SHAPE[0], IMAGE_SHAPE[1])\n",
    ")\n",
    "\n",
    "print(f\"Spiral dataset: {X_spiral.shape[0]} images, {np.sum(y_spiral)} Parkinson's, {X_spiral.shape[0] - np.sum(y_spiral)} Healthy\")\n",
    "print(f\"Wave dataset: {X_wave.shape[0]} images, {np.sum(y_wave)} Parkinson's, {X_wave.shape[0] - np.sum(y_wave)} Healthy\")"
   ]
  },
  {
   "cell_type": "code",
   "execution_count": null,
   "metadata": {},
   "outputs": [],
   "source": [
    "# Visualize some sample images\n",
    "fig, axes = plt.subplots(2, 4, figsize=(16, 8))\n",
    "\n",
    "# Show spiral images\n",
    "parkinson_spiral_idx = np.where(y_spiral == 1)[0][0]\n",
    "healthy_spiral_idx = np.where(y_spiral == 0)[0][0]\n",
    "\n",
    "axes[0, 0].imshow(X_spiral[healthy_spiral_idx, :, :, 0], cmap='gray')\n",
    "axes[0, 0].set_title(\"Healthy Spiral\")\n",
    "axes[0, 0].axis('off')\n",
    "\n",
    "axes[0, 1].imshow(X_spiral[parkinson_spiral_idx, :, :, 0], cmap='gray')\n",
    "axes[0, 1].set_title(\"Parkinson's Spiral\")\n",
    "axes[0, 1].axis('off')\n",
    "\n",
    "# Show wave images\n",
    "parkinson_wave_idx = np.where(y_wave == 1)[0][0]\n",
    "healthy_wave_idx = np.where(y_wave == 0)[0][0]\n",
    "\n",
    "axes[0, 2].imshow(X_wave[healthy_wave_idx, :, :, 0], cmap='gray')\n",
    "axes[0, 2].set_title(\"Healthy Wave\")\n",
    "axes[0, 2].axis('off')\n",
    "\n",
    "axes[0, 3].imshow(X_wave[parkinson_wave_idx, :, :, 0], cmap='gray')\n",
    "axes[0, 3].set_title(\"Parkinson's Wave\")\n",
    "axes[0, 3].axis('off')\n",
    "\n",
    "# Extract and visualize HOG features\n",
    "X_hog_spiral = data_loader.extract_hog_features(X_spiral, params=HOG_PARAMS)\n",
    "X_hog_wave = data_loader.extract_hog_features(X_wave, params=HOG_PARAMS)\n",
    "\n",
    "# Reshape HOG features for visualization\n",
    "hog_features_healthy_spiral = X_hog_spiral[healthy_spiral_idx].reshape(-1, 1)\n",
    "hog_features_parkinson_spiral = X_hog_spiral[parkinson_spiral_idx].reshape(-1, 1)\n",
    "hog_features_healthy_wave = X_hog_wave[healthy_wave_idx].reshape(-1, 1)\n",
    "hog_features_parkinson_wave = X_hog_wave[parkinson_wave_idx].reshape(-1, 1)\n",
    "\n",
    "axes[1, 0].plot(hog_features_healthy_spiral)\n",
    "axes[1, 0].set_title(\"HOG Features - Healthy Spiral\")\n",
    "\n",
    "axes[1, 1].plot(hog_features_parkinson_spiral)\n",
    "axes[1, 1].set_title(\"HOG Features - Parkinson's Spiral\")\n",
    "\n",
    "axes[1, 2].plot(hog_features_healthy_wave)\n",
    "axes[1, 2].set_title(\"HOG Features - Healthy Wave\")\n",
    "\n",
    "axes[1, 3].plot(hog_features_parkinson_wave)\n",
    "axes[1, 3].set_title(\"HOG Features - Parkinson's Wave\")\n",
    "\n",
    "plt.tight_layout()\n",
    "plt.show()"
   ]
  },
  {
   "cell_type": "markdown",
   "metadata": {},
   "source": [
    "## 4. Loading Clinical Data"
   ]
  },
  {
   "cell_type": "code",
   "execution_count": null,
   "metadata": {},
   "outputs": [],
   "source": [
    "# Load clinical data if available\n",
    "clinical_data_path = os.path.join(DATA_PATH, \"parkinson_clinical_data.csv\")\n",
    "if os.path.exists(clinical_data_path):\n",
    "    clinical_data = pd.read_csv(clinical_data_path)\n",
    "    print(f\"Clinical data loaded: {clinical_data.shape[0]} records\")\n",
    "    clinical_data.head()\n",
    "else:\n",
    "    print(\"Clinical data file not found.\")"
   ]
  },
  {
   "cell_type": "markdown",
   "metadata": {},
   "source": [
    "## 5. Building and Training Models\n",
    "\n",
    "Let's build and train our models."
   ]
  },
  {
   "cell_type": "code",
   "execution_count": null,
   "metadata": {},
   "outputs": [],
   "source": [
    "# Initialize model\n",
    "model = ParkinsonsDetector(image_shape=IMAGE_SHAPE)\n",
    "\n",
    "# Combine spiral and wave datasets\n",
    "X_combined = np.concatenate([X_spiral, X_wave], axis=0)\n",
    "y_combined = np.concatenate([y_spiral, y_wave], axis=0)\n",
    "\n",
    "# Get train, validation, and test indices\n",
    "train_indices, val_indices, test_indices = data_loader.get_train_val_test_indices(\n",
    "    len(X_combined), val_size=0.2, test_size=0.2)\n",
    "\n",
    "# Split the data\n",
    "X_train = X_combined[train_indices]\n",
    "y_train = y_combined[train_indices]\n",
    "X_val = X_combined[val_indices]\n",
    "y_val = y_combined[val_indices]\n",
    "X_test = X_combined[test_indices]\n",
    "y_test = y_combined[test_indices]"
   ]
  },
  {
   "cell_type": "code",
   "execution_count": null,
   "metadata": {},
   "outputs": [],
   "source": [
    "# Train a small CNN model for demonstration\n",
    "# In practice, we would train for more epochs\n",
    "cnn_model = model.build_cnn_model()\n",
    "print(cnn_model.summary())\n",
    "\n",
    "# Train the model with fewer epochs for demonstration\n",
    "demo_epochs = 5\n",
    "history = model.train_cnn_model(X_train, y_train, X_val, y_val, epochs=demo_epochs)\n",
    "\n",
    "# Visualize training history\n",
    "visualize_training_history(history)"
   ]
  },
  {
   "cell_type": "code",
   "execution_count": null,
   "metadata": {},
   "outputs": [],
   "source": [
    "# Extract HOG features for traditional ML models\n",
    "X_hog_combined = data_loader.extract_hog_features(X_combined, params=HOG_PARAMS)\n",
    "X_hog_train = X_hog_combined[train_indices]\n",
    "X_hog_test = X_hog_combined[test_indices]\n",
    "\n",
    "# Train Random Forest model\n",
    "rf_model = model.train_traditional_ml_model(X_hog_train, y_train, model_type='rf')\n",
    "print(f\"Random Forest model trained with {rf_model.n_estimators} trees\")"
   ]
  },
  {
   "cell_type": "markdown",
   "metadata": {},
   "source": [
    "## 6. Evaluating Models"
   ]
  },
  {
   "cell_type": "code",
   "execution_count": null,
   "metadata": {},
   "outputs": [],
   "source": [
    "# Evaluate CNN model\n",
    "cnn_metrics = model.evaluate_model('cnn', cnn_model, X_test, y_test)\n",
    "print(\"\\nCNN Model Evaluation:\")\n",
    "for metric, value in cnn_metrics.items():\n",
    "    if metric != 'confusion_matrix':\n",
    "        print(f\"{metric}: {value:.4f}\")\n",
    "    else:\n",
    "        print(f\"{metric}:\\n{value}\")"
   ]
  },
  {
   "cell_type": "code",
   "execution_count": null,
   "metadata": {},
   "outputs": [],
   "source": [
    "# Evaluate Random Forest model\n",
    "rf_metrics = model.evaluate_traditional_ml_model('rf', rf_model, X_hog_test, y_test)\n",
    "print(\"\\nRandom Forest Model Evaluation:\")\n",
    "for metric, value in rf_metrics.items():\n",
    "    if metric != 'confusion_matrix':\n",
    "        print(f\"{metric}: {value:.4f}\")\n",
    "    else:\n",
    "        print(f\"{metric}:\\n{value}\")"
   ]
  },
  {
   "cell_type": "markdown",
   "metadata": {},
   "source": [
    "## 7. Making Predictions\n",
    "\n",
    "Let's see how to use our trained models to make predictions on new images."
   ]
  },
  {
   "cell_type": "code",
   "execution_count": null,
   "metadata": {},
   "outputs": [],
   "source": [
    "# Save the models for later use\n",
    "os.makedirs(MODEL_SAVE_PATH, exist_ok=True)\n",
    "cnn_model.save(os.path.join(MODEL_SAVE_PATH, \"cnn_model.h5\"))\n",
    "joblib.dump(rf_model, os.path.join(MODEL_SAVE_PATH, \"rf_model.pkl\"))\n",
    "print(\"Models saved to\", MODEL_SAVE_PATH)"
   ]
  },
  {
   "cell_type": "code",
   "execution_count": null,
   "metadata": {},
   "outputs": [],
   "source": [
    "# Import the predictor class\n",
    "from predict import ParkinsonsPredictor\n",
    "\n",
    "# Initialize predictor\n",
    "predictor = ParkinsonsPredictor(model_dir=MODEL_SAVE_PATH)\n",
    "\n",
    "# Select a test image (assuming we have saved some images)\n",
    "spiral_images = os.listdir(os.path.join(SPIRAL_DATASET_PATH, \"healthy\"))\n",
    "if spiral_images:\n",
    "    test_image_path = os.path.join(SPIRAL_DATASET_PATH, \"healthy\", spiral_images[0])\n",
    "    \n",
    "    # Make a prediction\n",
    "    result = predictor.predict(test_image_path, model_name=\"ensemble\")\n",
    "    \n",
    "    # Visualize prediction\n",
    "    fig = predictor.visualize_prediction(result)\n",
    "    plt.show()\n",
    "    \n",
    "    # Print prediction details\n",
    "    print(f\"Prediction: {result['prediction']}\")\n",
    "    print(f\"Probability: {result['probability']:.4f}\")\n",
    "    \n",
    "    if 'individual_predictions' in result:\n",
    "        print(\"\\nIndividual model predictions:\")\n",
    "        for model_name, prob in result['individual_predictions'].items():\n",
    "            print(f\"{model_name}: {prob:.4f}\")\n",
    "else:\n",
    "    print(\"No test images found. Please create sample data first.\")"
   ]
  },
  {
   "cell_type": "markdown",
   "metadata": {},
   "source": [
    "## 8. Launching Web Interface\n",
    "\n",
    "The system includes a web interface for interactive prediction. Run the following command in a terminal:\n",
    "\n",
    "```bash\n",
    "python predict.py --web_interface\n",
    "```\n",
    "\n",
    "This will launch a Gradio interface where you can upload images and see predictions in real-time."
   ]
  },
  {
   "cell_type": "markdown",
   "metadata": {},
   "source": [
    "## Conclusion\n",
    "\n",
    "This notebook demonstrated the core functionality of our Parkinson's disease detection system. The system combines multiple models (CNN, transfer learning, and traditional ML) to achieve high accuracy in detecting Parkinson's disease from spiral and wave drawing tests.\n",
    "\n",
    "To run the full training pipeline with all models, use the following command:\n",
    "\n",
    "```bash\n",
    "python train.py --train_all\n",
    "```\n",
    "\n",
    "To evaluate all trained models, use:\n",
    "\n",
    "```bash\n",
    "python evaluate.py --plot --save_results\n",
    "```"
   ]
  }
 ],
 "metadata": {
  "kernelspec": {
   "display_name": "Python 3",
   "language": "python",
   "name": "python3"
  },
  "language_info": {
   "codemirror_mode": {
    "name": "ipython",
    "version": 3
   },
   "file_extension": ".py",
   "mimetype": "text/x-python",
   "name": "python",
   "nbconvert_exporter": "python",
   "pygments_lexer": "ipython3",
   "version": "3.8.10"
  }
 },
 "nbformat": 4,
 "nbformat_minor": 4
}
